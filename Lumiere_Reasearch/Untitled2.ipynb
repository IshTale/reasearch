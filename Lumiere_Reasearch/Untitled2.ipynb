{
 "cells": [
  {
   "cell_type": "code",
   "execution_count": 5,
   "id": "956d2110-ddb9-4f37-bca6-05756fd620bf",
   "metadata": {},
   "outputs": [],
   "source": [
    "import numpy as np\n",
    "import pandas as pd\n",
    "import matplotlib as plt\n",
    "import seaborn as sns\n",
    "import math\n",
    "import re\n",
    "from datetime import datetime\n",
    "from datetime import timedelta"
   ]
  },
  {
   "cell_type": "code",
   "execution_count": 6,
   "id": "26c219cd-27d8-4e62-9c82-b3b07117177c",
   "metadata": {},
   "outputs": [],
   "source": [
    "pd.set_option('display.max_colwidth',500)\n",
    "pd.set_option('display.max_rows',500)"
   ]
  },
  {
   "cell_type": "code",
   "execution_count": 7,
   "id": "259fba0d-1b0e-4956-9f80-d96362dc64e9",
   "metadata": {},
   "outputs": [],
   "source": [
    "game = game = pd.read_csv(\"game_summary.csv\")"
   ]
  },
  {
   "cell_type": "code",
   "execution_count": 4,
   "id": "050e6c59-8238-4400-b835-cad9a846b495",
   "metadata": {},
   "outputs": [
    {
     "ename": "KeyboardInterrupt",
     "evalue": "",
     "output_type": "error",
     "traceback": [
      "\u001b[0;31m---------------------------------------------------------------------------\u001b[0m",
      "\u001b[0;31mKeyboardInterrupt\u001b[0m                         Traceback (most recent call last)",
      "\u001b[0;32m<ipython-input-4-7d412032bd40>\u001b[0m in \u001b[0;36m<module>\u001b[0;34m\u001b[0m\n\u001b[0;32m----> 1\u001b[0;31m \u001b[0mplay\u001b[0m \u001b[0;34m=\u001b[0m \u001b[0mpd\u001b[0m\u001b[0;34m.\u001b[0m\u001b[0mread_csv\u001b[0m\u001b[0;34m(\u001b[0m\u001b[0;34m\"play_by_play.csv\"\u001b[0m\u001b[0;34m)\u001b[0m\u001b[0;34m\u001b[0m\u001b[0;34m\u001b[0m\u001b[0m\n\u001b[0m",
      "\u001b[0;32m~/anaconda3/envs/tensorFlow/lib/python3.6/site-packages/pandas/io/parsers.py\u001b[0m in \u001b[0;36mread_csv\u001b[0;34m(filepath_or_buffer, sep, delimiter, header, names, index_col, usecols, squeeze, prefix, mangle_dupe_cols, dtype, engine, converters, true_values, false_values, skipinitialspace, skiprows, skipfooter, nrows, na_values, keep_default_na, na_filter, verbose, skip_blank_lines, parse_dates, infer_datetime_format, keep_date_col, date_parser, dayfirst, cache_dates, iterator, chunksize, compression, thousands, decimal, lineterminator, quotechar, quoting, doublequote, escapechar, comment, encoding, dialect, error_bad_lines, warn_bad_lines, delim_whitespace, low_memory, memory_map, float_precision)\u001b[0m\n\u001b[1;32m    686\u001b[0m     )\n\u001b[1;32m    687\u001b[0m \u001b[0;34m\u001b[0m\u001b[0m\n\u001b[0;32m--> 688\u001b[0;31m     \u001b[0;32mreturn\u001b[0m \u001b[0m_read\u001b[0m\u001b[0;34m(\u001b[0m\u001b[0mfilepath_or_buffer\u001b[0m\u001b[0;34m,\u001b[0m \u001b[0mkwds\u001b[0m\u001b[0;34m)\u001b[0m\u001b[0;34m\u001b[0m\u001b[0;34m\u001b[0m\u001b[0m\n\u001b[0m\u001b[1;32m    689\u001b[0m \u001b[0;34m\u001b[0m\u001b[0m\n\u001b[1;32m    690\u001b[0m \u001b[0;34m\u001b[0m\u001b[0m\n",
      "\u001b[0;32m~/anaconda3/envs/tensorFlow/lib/python3.6/site-packages/pandas/io/parsers.py\u001b[0m in \u001b[0;36m_read\u001b[0;34m(filepath_or_buffer, kwds)\u001b[0m\n\u001b[1;32m    458\u001b[0m \u001b[0;34m\u001b[0m\u001b[0m\n\u001b[1;32m    459\u001b[0m     \u001b[0;32mtry\u001b[0m\u001b[0;34m:\u001b[0m\u001b[0;34m\u001b[0m\u001b[0;34m\u001b[0m\u001b[0m\n\u001b[0;32m--> 460\u001b[0;31m         \u001b[0mdata\u001b[0m \u001b[0;34m=\u001b[0m \u001b[0mparser\u001b[0m\u001b[0;34m.\u001b[0m\u001b[0mread\u001b[0m\u001b[0;34m(\u001b[0m\u001b[0mnrows\u001b[0m\u001b[0;34m)\u001b[0m\u001b[0;34m\u001b[0m\u001b[0;34m\u001b[0m\u001b[0m\n\u001b[0m\u001b[1;32m    461\u001b[0m     \u001b[0;32mfinally\u001b[0m\u001b[0;34m:\u001b[0m\u001b[0;34m\u001b[0m\u001b[0;34m\u001b[0m\u001b[0m\n\u001b[1;32m    462\u001b[0m         \u001b[0mparser\u001b[0m\u001b[0;34m.\u001b[0m\u001b[0mclose\u001b[0m\u001b[0;34m(\u001b[0m\u001b[0;34m)\u001b[0m\u001b[0;34m\u001b[0m\u001b[0;34m\u001b[0m\u001b[0m\n",
      "\u001b[0;32m~/anaconda3/envs/tensorFlow/lib/python3.6/site-packages/pandas/io/parsers.py\u001b[0m in \u001b[0;36mread\u001b[0;34m(self, nrows)\u001b[0m\n\u001b[1;32m   1196\u001b[0m     \u001b[0;32mdef\u001b[0m \u001b[0mread\u001b[0m\u001b[0;34m(\u001b[0m\u001b[0mself\u001b[0m\u001b[0;34m,\u001b[0m \u001b[0mnrows\u001b[0m\u001b[0;34m=\u001b[0m\u001b[0;32mNone\u001b[0m\u001b[0;34m)\u001b[0m\u001b[0;34m:\u001b[0m\u001b[0;34m\u001b[0m\u001b[0;34m\u001b[0m\u001b[0m\n\u001b[1;32m   1197\u001b[0m         \u001b[0mnrows\u001b[0m \u001b[0;34m=\u001b[0m \u001b[0m_validate_integer\u001b[0m\u001b[0;34m(\u001b[0m\u001b[0;34m\"nrows\"\u001b[0m\u001b[0;34m,\u001b[0m \u001b[0mnrows\u001b[0m\u001b[0;34m)\u001b[0m\u001b[0;34m\u001b[0m\u001b[0;34m\u001b[0m\u001b[0m\n\u001b[0;32m-> 1198\u001b[0;31m         \u001b[0mret\u001b[0m \u001b[0;34m=\u001b[0m \u001b[0mself\u001b[0m\u001b[0;34m.\u001b[0m\u001b[0m_engine\u001b[0m\u001b[0;34m.\u001b[0m\u001b[0mread\u001b[0m\u001b[0;34m(\u001b[0m\u001b[0mnrows\u001b[0m\u001b[0;34m)\u001b[0m\u001b[0;34m\u001b[0m\u001b[0;34m\u001b[0m\u001b[0m\n\u001b[0m\u001b[1;32m   1199\u001b[0m \u001b[0;34m\u001b[0m\u001b[0m\n\u001b[1;32m   1200\u001b[0m         \u001b[0;31m# May alter columns / col_dict\u001b[0m\u001b[0;34m\u001b[0m\u001b[0;34m\u001b[0m\u001b[0;34m\u001b[0m\u001b[0m\n",
      "\u001b[0;32m~/anaconda3/envs/tensorFlow/lib/python3.6/site-packages/pandas/io/parsers.py\u001b[0m in \u001b[0;36mread\u001b[0;34m(self, nrows)\u001b[0m\n\u001b[1;32m   2155\u001b[0m     \u001b[0;32mdef\u001b[0m \u001b[0mread\u001b[0m\u001b[0;34m(\u001b[0m\u001b[0mself\u001b[0m\u001b[0;34m,\u001b[0m \u001b[0mnrows\u001b[0m\u001b[0;34m=\u001b[0m\u001b[0;32mNone\u001b[0m\u001b[0;34m)\u001b[0m\u001b[0;34m:\u001b[0m\u001b[0;34m\u001b[0m\u001b[0;34m\u001b[0m\u001b[0m\n\u001b[1;32m   2156\u001b[0m         \u001b[0;32mtry\u001b[0m\u001b[0;34m:\u001b[0m\u001b[0;34m\u001b[0m\u001b[0;34m\u001b[0m\u001b[0m\n\u001b[0;32m-> 2157\u001b[0;31m             \u001b[0mdata\u001b[0m \u001b[0;34m=\u001b[0m \u001b[0mself\u001b[0m\u001b[0;34m.\u001b[0m\u001b[0m_reader\u001b[0m\u001b[0;34m.\u001b[0m\u001b[0mread\u001b[0m\u001b[0;34m(\u001b[0m\u001b[0mnrows\u001b[0m\u001b[0;34m)\u001b[0m\u001b[0;34m\u001b[0m\u001b[0;34m\u001b[0m\u001b[0m\n\u001b[0m\u001b[1;32m   2158\u001b[0m         \u001b[0;32mexcept\u001b[0m \u001b[0mStopIteration\u001b[0m\u001b[0;34m:\u001b[0m\u001b[0;34m\u001b[0m\u001b[0;34m\u001b[0m\u001b[0m\n\u001b[1;32m   2159\u001b[0m             \u001b[0;32mif\u001b[0m \u001b[0mself\u001b[0m\u001b[0;34m.\u001b[0m\u001b[0m_first_chunk\u001b[0m\u001b[0;34m:\u001b[0m\u001b[0;34m\u001b[0m\u001b[0;34m\u001b[0m\u001b[0m\n",
      "\u001b[0;32mpandas/_libs/parsers.pyx\u001b[0m in \u001b[0;36mpandas._libs.parsers.TextReader.read\u001b[0;34m()\u001b[0m\n",
      "\u001b[0;32mpandas/_libs/parsers.pyx\u001b[0m in \u001b[0;36mpandas._libs.parsers.TextReader._read_low_memory\u001b[0;34m()\u001b[0m\n",
      "\u001b[0;32mpandas/_libs/parsers.pyx\u001b[0m in \u001b[0;36mpandas._libs.parsers.TextReader._read_rows\u001b[0;34m()\u001b[0m\n",
      "\u001b[0;32mpandas/_libs/parsers.pyx\u001b[0m in \u001b[0;36mpandas._libs.parsers.TextReader._convert_column_data\u001b[0;34m()\u001b[0m\n",
      "\u001b[0;32mpandas/_libs/parsers.pyx\u001b[0m in \u001b[0;36mpandas._libs.parsers.TextReader._convert_tokens\u001b[0;34m()\u001b[0m\n",
      "\u001b[0;32mpandas/_libs/parsers.pyx\u001b[0m in \u001b[0;36mpandas._libs.parsers.TextReader._convert_with_dtype\u001b[0;34m()\u001b[0m\n",
      "\u001b[0;32m~/anaconda3/envs/tensorFlow/lib/python3.6/site-packages/pandas/core/dtypes/common.py\u001b[0m in \u001b[0;36mis_categorical_dtype\u001b[0;34m(arr_or_dtype)\u001b[0m\n\u001b[1;32m    528\u001b[0m \u001b[0;34m\u001b[0m\u001b[0m\n\u001b[1;32m    529\u001b[0m \u001b[0;34m\u001b[0m\u001b[0m\n\u001b[0;32m--> 530\u001b[0;31m \u001b[0;32mdef\u001b[0m \u001b[0mis_categorical_dtype\u001b[0m\u001b[0;34m(\u001b[0m\u001b[0marr_or_dtype\u001b[0m\u001b[0;34m)\u001b[0m \u001b[0;34m->\u001b[0m \u001b[0mbool\u001b[0m\u001b[0;34m:\u001b[0m\u001b[0;34m\u001b[0m\u001b[0;34m\u001b[0m\u001b[0m\n\u001b[0m\u001b[1;32m    531\u001b[0m     \"\"\"\n\u001b[1;32m    532\u001b[0m     \u001b[0mCheck\u001b[0m \u001b[0mwhether\u001b[0m \u001b[0man\u001b[0m \u001b[0marray\u001b[0m\u001b[0;34m-\u001b[0m\u001b[0mlike\u001b[0m \u001b[0;32mor\u001b[0m \u001b[0mdtype\u001b[0m \u001b[0;32mis\u001b[0m \u001b[0mof\u001b[0m \u001b[0mthe\u001b[0m \u001b[0mCategorical\u001b[0m \u001b[0mdtype\u001b[0m\u001b[0;34m.\u001b[0m\u001b[0;34m\u001b[0m\u001b[0;34m\u001b[0m\u001b[0m\n",
      "\u001b[0;31mKeyboardInterrupt\u001b[0m: "
     ]
    }
   ],
   "source": [
    "play = pd.read_csv(\"play_by_play.csv\")"
   ]
  },
  {
   "cell_type": "code",
   "execution_count": null,
   "id": "ecd1ff43-4c23-43ef-96f4-a365d869c832",
   "metadata": {},
   "outputs": [],
   "source": [
    "play = play.drop(['eventnum', 'eventmsgactiontype',\n",
    "       'wctimestring', 'neutraldescription', 'person1type',\n",
    "       'player1_team_id', 'player1_team_city',\n",
    "       'player1_team_nickname', 'player1_team_abbreviation', 'person2type',\n",
    "       'player2_team_id', 'player2_team_city',\n",
    "       'player2_team_nickname', 'player2_team_abbreviation', 'person3type',\n",
    "       'player3_team_id', 'player3_team_city',\n",
    "       'player3_team_nickname', 'player3_team_abbreviation',\n",
    "       'video_available_flag'], axis = 1)\n",
    "play"
   ]
  },
  {
   "cell_type": "code",
   "execution_count": null,
   "id": "5c5313b0-dcdf-44b4-b864-cec44688d172",
   "metadata": {},
   "outputs": [],
   "source": [
    "game_dict = {'1946' : [], '1947' : [], '1948' : [], '1949' : [], '1950' : [], '1951' : [], '1952' : [], '1953' : [], '1954' : [], '1955' : [], '1956' : [], '1957' : [], '1958' : [], \n",
    "             '1959' : [], '1960' : [], '1961' : [], '1962' : [], '1963' : [], '1964' : [], '1965' : [], '1966' : [], '1967' : [], '1968' : [], '1969' : [], '1970' : [], '1971' : [], \n",
    "             '1972' : [], '1973' : [], '1974' : [], '1975' : [], '1976' : [], '1977' : [], '1978' : [], '1979' : [], '1980' : [], '1981' : [], '1982' : [], '1983' : [], '1984' : [], \n",
    "             '1985' : [], '1986' : [], '1987' : [], '1988' : [], '1989' : [], '1990' : [], '1991' : [], '1992' : [], '1993' : [], '1994' : [], '1995' : [], '1996' : [], '1997' : [], \n",
    "             '1998' : [], '1999' : [], '2000' : [], '2001' : [], '2002' : [], '2003' : [], '2004' : [], '2005' : [], '2006' : [], '2007' : [], '2008' : [], '2009' : [], '2010' : [], \n",
    "             '2011' : [], '2012' : [], '2013' : [], '2014' : [], '2015' : [], '2016' : [], '2017' : [], '2018' : [], '2019' : [], '2020' : [], '2021' : [], '2022' : [], '2023' : []}\n",
    "for row in game.iterrows():\n",
    "    season = str(row[1][\"season\"])\n",
    "    game_dict[season].append(row[1][\"game_id\"])"
   ]
  },
  {
   "cell_type": "code",
   "execution_count": null,
   "id": "b0ee44f2-029e-42a4-9cf9-fe85346174e2",
   "metadata": {},
   "outputs": [],
   "source": [
    "def calc_time(start_time, end_time):\n",
    "    time = re.compile(\"\\d+\")\n",
    "    start_time = time.findall(start_time)\n",
    "    end_time = time.findall(end_time)\n",
    "    delta = timedelta(seconds = float(start_time[1]) - float(end_time[1]), minutes = float(start_time[0]) - float(end_time[0]))\n",
    "    return math.ceil(delta.total_seconds()/60)"
   ]
  },
  {
   "cell_type": "code",
   "execution_count": null,
   "id": "5365acb2-fd4c-4d6c-bf2b-e4cc658d8c08",
   "metadata": {},
   "outputs": [],
   "source": [
    "player = pd.read_csv(\"time_data.csv\")\n",
    "player[\"rebounds\"] = [np.nan] * player.shape[0]\n",
    "player[\"ORB\"] = [0] * player.shape[0]\n",
    "player[\"DRB\"] = [0] * player.shape[0]\n",
    "player[\"MP\"] = [0] * player.shape[0]\n",
    "player[\"points\"] = [0] * player.shape[0]\n",
    "player[\"three_pointers\"] = [0] * player.shape[0]\n",
    "player[\"start_time\"] = [np.nan] * player.shape[0]\n",
    "player"
   ]
  },
  {
   "cell_type": "code",
   "execution_count": null,
   "id": "b88a9bd6-9069-49b6-bf21-4d8cb7dc9b0a",
   "metadata": {},
   "outputs": [],
   "source": [
    "count = 0\n",
    "margin = 0\n",
    "period = 1\n",
    "eventmsgtype = 1\n",
    "period_index = 2\n",
    "timestring = 3\n",
    "homedescription = 4\n",
    "visitordescription = 5\n",
    "scoremargin = 7\n",
    "player1_id = 8\n",
    "player1_name = 9\n",
    "player2_id = 10\n",
    "player2_name = 11\n",
    "player3_id = 12\n",
    "player3_name = 13\n",
    "pattern = re.compile(\"\\d+\")\n",
    "print(\"starting...\")\n",
    "for key, values in game_dict.items():\n",
    "    key = int(key)\n",
    "    if key < 1996:\n",
    "        continue\n",
    "    print(key, end = \", \")\n",
    "    for game in values:\n",
    "        margin = 0\n",
    "        for row in play.loc[play[\"game_id\"] == game].values:\n",
    "            if (pd.notna(row[player1_name])) & True in (player.loc[(player[\"name\"] == row[player1_name]) & (player[\"season\"] == key), \"start_time\"]).isna().values:\n",
    "                player.loc[(player[\"name\"] == row[player1_name]) & (player[\"season\"] == key), \"start_time\"] = row[timestring]\n",
    "            \n",
    "            if (pd.notna(row[player2_name])) & True in (player.loc[(player[\"name\"] == row[player1_name]) & (player[\"season\"] == key), \"start_time\"]).isna().values:\n",
    "                player.loc[(player[\"name\"] == row[player2_name]) & (player[\"season\"] == key), \"start_time\"] = row[timestring]  \n",
    "                \n",
    "            if (pd.notna(row[player3_name])) & True in (player.loc[(player[\"name\"] == row[player1_name]) & (player[\"season\"] == key), \"start_time\"]).isna().values:\n",
    "                player.loc[(player[\"name\"] == row[player3_name]) & (player[\"season\"] == key), \"start_time\"] = row[timestring]\n",
    "                \n",
    "            if row[eventmsgtype] == 1:\n",
    "                try:\n",
    "                    if row[scoremargin] == \"TIE\":\n",
    "                        points = abs(0 - margin)\n",
    "                    else:\n",
    "                        points = abs(int(row[scoremargin]) - margin)\n",
    "                    player.loc[(player[\"name\"] == row[player1_name]) & (player[\"season\"] == key), \"points\"] += points\n",
    "                    if points == 3:\n",
    "                        player.loc[(player[\"name\"] == row[player1_name]) & (player[\"season\"] == key), \"three_pointers\"] += 1\n",
    "                    if row[scoremargin] == \"TIE\":\n",
    "                        margin = 0\n",
    "                    else:\n",
    "                        margin = int(row[scoremargin])\n",
    "                except:\n",
    "                    pass\n",
    "            elif row[eventmsgtype] == 4:\n",
    "                if pd.notna(row[homedescription]):\n",
    "                    player.loc[(player[\"person_id\"] == row[player1_id]) & (player[\"season\"] == key), \"rebounds\"] = row[homedescription]\n",
    "                else:\n",
    "                    player.loc[(player[\"person_id\"] == row[player1_id]) & (player[\"season\"] == key), \"rebounds\"] = row[visitordescription]\n",
    "        \n",
    "            elif row[eventmsgtype] == 8:\n",
    "                try:\n",
    "                    MP = calc_time(player.loc[(player[\"person_id\"] == row[player1_id]) & (player[\"season\"] == key), \"start_time\"].values[0], row[timestring])\n",
    "                    player.loc[(player[\"person_id\"] == row[player1_id]) & (player[\"season\"] == key), \"MP\"] += MP\n",
    "                    player.loc[(player[\"person_id\"] == row[player1_id]) & (player[\"season\"] == key), \"start_time\"] = np.nan\n",
    "                except:\n",
    "                    pass\n",
    "            \n",
    "            elif row[eventmsgtype] == 13:\n",
    "                for i in player[\"start_time\"].values:\n",
    "                    if type(i) == str:\n",
    "                        MP = calc_time(i, row[timestring])\n",
    "                        player.loc[player[\"start_time\"] != np.nan, \"MP\"] += MP\n",
    "                        player.loc[player[\"start_time\"] != np.nan, \"start_time\"] = np.nan\n",
    "                period = row[period_index]\n",
    "            if count % 100000 == 0:\n",
    "                print(count, end = \", \")\n",
    "            count += 1\n",
    "        margin = 0\n",
    "        for values in player.loc[player[\"rebounds\"].notna()].values:\n",
    "            try:\n",
    "                temp = pattern.findall(values[16])\n",
    "                player.loc[(player[\"name\"] == values[3]) & (player[\"season\"] == key), \"ORB\"] += int(temp[0])\n",
    "                player.loc[(player[\"name\"] == values[3]) & (player[\"season\"] == key), \"DRB\"] += int(temp[1])\n",
    "            except:\n",
    "                pass\n",
    "            \n",
    "print(\"Finished\")"
   ]
  },
  {
   "cell_type": "code",
   "execution_count": null,
   "id": "8be8237b-f953-455f-8248-684517bf4e4c",
   "metadata": {},
   "outputs": [],
   "source": [
    "player.head(50)"
   ]
  },
  {
   "cell_type": "code",
   "execution_count": null,
   "id": "02759b21-19f0-4072-86fc-f89f52f46b91",
   "metadata": {},
   "outputs": [],
   "source": [
    "from pathlib import Path  \n",
    "filepath = Path('Lumiere_Reasearch/time_data.csv')  \n",
    "filepath.parent.mkdir(parents=True, exist_ok=True)  \n",
    "player.to_csv(filepath)  "
   ]
  }
 ],
 "metadata": {
  "kernelspec": {
   "display_name": "Python 3",
   "language": "python",
   "name": "python3"
  },
  "language_info": {
   "codemirror_mode": {
    "name": "ipython",
    "version": 3
   },
   "file_extension": ".py",
   "mimetype": "text/x-python",
   "name": "python",
   "nbconvert_exporter": "python",
   "pygments_lexer": "ipython3",
   "version": "3.6.10"
  }
 },
 "nbformat": 4,
 "nbformat_minor": 5
}
